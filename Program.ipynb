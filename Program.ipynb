{
 "cells": [
  {
   "cell_type": "markdown",
   "metadata": {},
   "source": [
    "# SIT742: Modern Data Science \n",
    "**(Assessment Task 01: Wine Rating Data Exploration)**\n",
    "\n",
    "---\n",
    "- Materials in this module include resources collected from various open-source online repositories.\n",
    "- You are free to use, change and distribute this package.\n",
    "\n",
    "Prepared by **SIT742 Teaching Team**\n",
    "\n",
    "\n",
    "---\n",
    "\n",
    "**Student Information:** Please fill your information below\n",
    "\n",
    "- Name: Shrutik Yogeshchandra Panchal\n",
    "- Student ID: 218412482\n",
    "- Email: sypanchal@deakin.edu.au\n",
    "\n",
    "---"
   ]
  },
  {
   "cell_type": "markdown",
   "metadata": {},
   "source": [
    "# Part 0. Data Files\n",
    "\n",
    "## 0.1 Download Data  "
   ]
  },
  {
   "cell_type": "code",
   "execution_count": 1,
   "metadata": {},
   "outputs": [
    {
     "name": "stdout",
     "output_type": "stream",
     "text": [
      "Requirement already satisfied: wget in c:\\program files (x86)\\python37-32\\lib\\site-packages (3.2)\n"
     ]
    }
   ],
   "source": [
    "# installing wget if not present\n",
    "!pip install wget"
   ]
  },
  {
   "cell_type": "code",
   "execution_count": 2,
   "metadata": {},
   "outputs": [
    {
     "name": "stdout",
     "output_type": "stream",
     "text": [
      "100% [................................................................................] 4158 / 4158"
     ]
    }
   ],
   "source": [
    "#--------------------------------------------------------------------------------------------------------------------------\n",
    "#--------------------------------------------------------------------------------------------------------------------------\n",
    "# importing required libraries\n",
    "import wget\n",
    "import numpy as np\n",
    "import json\n",
    "import pandas as pd\n",
    "import matplotlib.pyplot as plt\n",
    "#--------------------------------------------------------------------------------------------------------------------------\n",
    "#--------------------------------------------------------------------------------------------------------------------------\n",
    "# Downloading Required data into directory\n",
    "link_to_data = 'https://github.com/tulip-lab/sit742/raw/master/Assessment/2019/data/wine.json'\n",
    "DataSet = wget.download(link_to_data)\n",
    "\n",
    "link_to_data = 'https://github.com/tulip-lab/sit742/raw/master/Assessment/2019/data/stopwords.txt'\n",
    "DataSet = wget.download(link_to_data)\n",
    "#--------------------------------------------------------------------------------------------------------------------------\n",
    "#--------------------------------------------------------------------------------------------------------------------------"
   ]
  },
  {
   "cell_type": "code",
   "execution_count": 3,
   "metadata": {},
   "outputs": [
    {
     "name": "stderr",
     "output_type": "stream",
     "text": [
      "'ls' is not recognized as an internal or external command,\n",
      "operable program or batch file.\n"
     ]
    }
   ],
   "source": [
    "#--------------------------------------------------------------------------------------------------------------------------\n",
    "# Listing current directory contents\n",
    "!ls\n",
    "#--------------------------------------------------------------------------------------------------------------------------"
   ]
  },
  {
   "cell_type": "markdown",
   "metadata": {
    "colab_type": "text",
    "id": "oNT3z7_d0E2A"
   },
   "source": [
    "## 0.2 Load Data  "
   ]
  },
  {
   "cell_type": "code",
   "execution_count": 4,
   "metadata": {
    "colab": {},
    "colab_type": "code",
    "id": "rykuKlUD0E2E"
   },
   "outputs": [],
   "source": [
    "#--------------------------------------------------------------------------------------------------------------------------\n",
    "# choosing wine.json file for analysis\n",
    "file = '/Data/wine.json'\n",
    "#--------------------------------------------------------------------------------------------------------------------------"
   ]
  },
  {
   "cell_type": "code",
   "execution_count": 5,
   "metadata": {
    "colab": {},
    "colab_type": "code",
    "id": "yhSNRInw0E2F"
   },
   "outputs": [
    {
     "name": "stdout",
     "output_type": "stream",
     "text": [
      "Total number of invalid values in columns price/points are:  8996\n",
      "Total Data without removing the Invalid rows from price/points columns:  129971\n",
      "Total Data after removing the Invalid rows from price/points columns:  120975\n"
     ]
    }
   ],
   "source": [
    "#--------------------------------------------------------------------------------------------------------------------------\n",
    "# Reading Wine file\n",
    "with open(file, \"r\") as wfile:\n",
    "    wineData = json.load(wfile) #Decoding and saving in mentioned variable\n",
    "#--------------------------------------------------------------------------------------------------------------------------\n",
    "# Converting data into python panda dataframe\n",
    "wData = pd.DataFrame(wineData)\n",
    "#--------------------------------------------------------------------------------------------------------------------------\n",
    "# Checking NaN values in points/price columns that need to be removed\n",
    "\n",
    "count=0 # counter\n",
    "\n",
    "# Looping through each row of the data to check their values\n",
    "for index, row in wData.iterrows(): \n",
    "    if pd.isna(row[\"points\"]) or pd.isna(row[\"price\"]): #checking values of both the columns at row response\n",
    "        count = count + 1\n",
    "#--------------------------------------------------------------------------------------------------------------------------\n",
    "print(\"Total number of invalid values in columns price/points are: \", count)\n",
    "print(\"Total Data without removing the Invalid rows from price/points columns: \", len(wData))\n",
    "#--------------------------------------------------------------------------------------------------------------------------\n",
    "# Removing all the rows where either points or price contains the invalid values\n",
    "wData = wData.dropna(subset = [\"points\",\"price\"])\n",
    "print(\"Total Data after removing the Invalid rows from price/points columns: \", len(wData))\n",
    "#--------------------------------------------------------------------------------------------------------------------------"
   ]
  },
  {
   "cell_type": "markdown",
   "metadata": {
    "colab_type": "text",
    "id": "p-Mn2BCV0E2J"
   },
   "source": [
    "# Part 1: numeric anaysis"
   ]
  },
  {
   "cell_type": "markdown",
   "metadata": {
    "colab_type": "text",
    "id": "NnyyHM280E2J"
   },
   "source": [
    "## 1.1 Explore the data distribution for each column."
   ]
  },
  {
   "cell_type": "code",
   "execution_count": 6,
   "metadata": {
    "colab": {},
    "colab_type": "code",
    "id": "XLgAFg_K0E2K"
   },
   "outputs": [
    {
     "name": "stdout",
     "output_type": "stream",
     "text": [
      "Overview of the Dataset: \n",
      "<class 'pandas.core.frame.DataFrame'>\n",
      "Int64Index: 120975 entries, 1 to 129970\n",
      "Data columns (total 13 columns):\n",
      "country                  120916 non-null object\n",
      "description              120975 non-null object\n",
      "designation              86196 non-null object\n",
      "points                   120975 non-null object\n",
      "price                    120975 non-null float64\n",
      "province                 120916 non-null object\n",
      "region_1                 101400 non-null object\n",
      "region_2                 50292 non-null object\n",
      "taster_name              96479 non-null object\n",
      "taster_twitter_handle    91559 non-null object\n",
      "title                    120975 non-null object\n",
      "variety                  120974 non-null object\n",
      "winery                   120975 non-null object\n",
      "dtypes: float64(1), object(12)\n",
      "memory usage: 7.4+ MB\n",
      "\n",
      "\n",
      "\n",
      "count     120916\n",
      "unique        42\n",
      "top           US\n",
      "freq       54265\n",
      "Name: country, dtype: object \n",
      "\n",
      "\n",
      "count                                                120975\n",
      "unique                                               111567\n",
      "top       Stalky aromas suggest hay and green herbs, wit...\n",
      "freq                                                      3\n",
      "Name: description, dtype: object \n",
      "\n",
      "\n",
      "count       86196\n",
      "unique      35776\n",
      "top       Reserve\n",
      "freq         1980\n",
      "Name: designation, dtype: object \n",
      "\n",
      "\n",
      "count     120975\n",
      "unique        21\n",
      "top           88\n",
      "freq       16014\n",
      "Name: points, dtype: object \n",
      "\n",
      "\n",
      "count    120975.000000\n",
      "mean         35.363389\n",
      "std          41.022218\n",
      "min           4.000000\n",
      "25%          17.000000\n",
      "50%          25.000000\n",
      "75%          42.000000\n",
      "max        3300.000000\n",
      "Name: price, dtype: float64 \n",
      "\n",
      "\n",
      "count         120916\n",
      "unique           422\n",
      "top       California\n",
      "freq           36104\n",
      "Name: province, dtype: object \n",
      "\n",
      "\n",
      "count          101400\n",
      "unique           1204\n",
      "top       Napa Valley\n",
      "freq             4475\n",
      "Name: region_1, dtype: object \n",
      "\n",
      "\n",
      "count             50292\n",
      "unique               17\n",
      "top       Central Coast\n",
      "freq              10975\n",
      "Name: region_2, dtype: object \n",
      "\n",
      "\n",
      "count          96479\n",
      "unique            19\n",
      "top       Roger Voss\n",
      "freq           20172\n",
      "Name: taster_name, dtype: object \n",
      "\n",
      "\n",
      "count          91559\n",
      "unique            15\n",
      "top       @vossroger\n",
      "freq           20172\n",
      "Name: taster_twitter_handle, dtype: object \n",
      "\n",
      "\n",
      "count                                                120975\n",
      "unique                                               110638\n",
      "top       Gloria Ferrer NV Sonoma Brut Sparkling (Sonoma...\n",
      "freq                                                     11\n",
      "Name: title, dtype: object \n",
      "\n",
      "\n",
      "count         120974\n",
      "unique           697\n",
      "top       Pinot Noir\n",
      "freq           12787\n",
      "Name: variety, dtype: object \n",
      "\n",
      "\n",
      "count         120975\n",
      "unique         15855\n",
      "top       Testarossa\n",
      "freq             217\n",
      "Name: winery, dtype: object \n",
      "\n",
      "\n"
     ]
    }
   ],
   "source": [
    "#--------------------------------------------------------------------------------------------------------------------------\n",
    "# Dataset Overview\n",
    "print(\"Overview of the Dataset: \")\n",
    "wData.info()\n",
    "print(\"\\n\\n\")\n",
    "#--------------------------------------------------------------------------------------------------------------------------\n",
    "# Columnwise detail information\n",
    "for column in list(wData):\n",
    "    print(wData[column].describe(), \"\\n\\n\") # Columnwise description printing\n",
    "#--------------------------------------------------------------------------------------------------------------------------"
   ]
  },
  {
   "cell_type": "markdown",
   "metadata": {
    "colab_type": "text",
    "id": "8traKPor0E2a"
   },
   "source": [
    "## 1.2 Find the 10 varieties of wine which receives the highest number of  reviews"
   ]
  },
  {
   "cell_type": "code",
   "execution_count": 7,
   "metadata": {
    "colab": {},
    "colab_type": "code",
    "id": "uTjM_Jmt0E2a",
    "scrolled": true
   },
   "outputs": [
    {
     "name": "stdout",
     "output_type": "stream",
     "text": [
      "10 Varieties of wine with highest number of reviews:\n",
      " Pinot Noir                  12787\n",
      "Chardonnay                  11080\n",
      "Cabernet Sauvignon           9386\n",
      "Red Blend                    8476\n",
      "Bordeaux-style Red Blend     5340\n",
      "Riesling                     4972\n",
      "Sauvignon Blanc              4783\n",
      "Syrah                        4086\n",
      "Rosé                         3262\n",
      "Merlot                       3062\n",
      "Name: variety, dtype: int64\n"
     ]
    }
   ],
   "source": [
    "#--------------------------------------------------------------------------------------------------------------------------\n",
    "# Getting counts and extracting only top 10 variety names as value_counts return sorted output\n",
    "wData_wine_freq = wData[\"variety\"].value_counts()[:10]\n",
    "print(\"10 Varieties of wine with highest number of reviews:\\n\", wData_wine_freq)\n",
    "#--------------------------------------------------------------------------------------------------------------------------"
   ]
  },
  {
   "cell_type": "markdown",
   "metadata": {
    "colab_type": "text",
    "id": "RtpXXUrv0E2c"
   },
   "source": [
    "## 1.3 Find varieties of wine having the average price less than 20, with the average pointsat least 90"
   ]
  },
  {
   "cell_type": "code",
   "execution_count": 8,
   "metadata": {
    "colab": {},
    "colab_type": "code",
    "id": "KgdpRAfs0E2d"
   },
   "outputs": [
    {
     "name": "stdout",
     "output_type": "stream",
     "text": [
      "Wine varieties with average price less than 20 and average points at least 90 are as follows: \n",
      "Tinta Cao\n",
      "Blauburgunder\n",
      "Shiraz-Malbec\n",
      "Roussanne-Grenache Blanc\n",
      "Kotsifali\n",
      "Caprettone\n",
      "Ondenc\n"
     ]
    }
   ],
   "source": [
    "#--------------------------------------------------------------------------------------------------------------------------\n",
    "print(\"Wine varieties with average price less than 20 and average points at least 90 are as follows: \")\n",
    "# interating by each wine variety\n",
    "for variet in list(wData[\"variety\"].unique()):    \n",
    "    data_check = wData[(wData.variety == variet)] # subseting data by variety\n",
    "    if (data_check.price.mean() < 20 and pd.to_numeric(data_check.points).mean() >= 90): # Applying given filters or conditions\n",
    "        print(variet) # printing the wine variety that meets the given conditions\n",
    "#--------------------------------------------------------------------------------------------------------------------------"
   ]
  },
  {
   "cell_type": "markdown",
   "metadata": {
    "colab_type": "text",
    "id": "Yi93saTG0E2i"
   },
   "source": [
    "## 1.4 Build statistic table "
   ]
  },
  {
   "cell_type": "code",
   "execution_count": 9,
   "metadata": {
    "colab": {},
    "colab_type": "code",
    "id": "IPKIEonM0E2j",
    "scrolled": true
   },
   "outputs": [],
   "source": [
    "#--------------------------------------------------------------------------------------------------------------------------\n",
    "# Defining DataFrame as per requirement with given 4 columns\n",
    "statisticByStateData = pd.DataFrame(columns=[\"Country\", \"Variety\", \"AvgPoint\", \"AvgPrice\"])\n",
    "#--------------------------------------------------------------------------------------------------------------------------\n",
    "# Iterating through each country\n",
    "for cntry in list(wData['country'].unique()):\n",
    "    fData = wData[(wData.country == cntry)] # subseting data by country\n",
    "    if not(fData[\"variety\"].empty): # checking if data cell is empty or not\n",
    "        wine_name = fData[\"variety\"].value_counts().idxmax() # getting variety name\n",
    "        # adding row to dataframe if conditon is true\n",
    "        statisticByStateData = statisticByStateData.append({\"Country\": cntry, \"Variety\": wine_name, \n",
    "                                                            \"AvgPoint\": round(pd.to_numeric(fData.points).mean(),2),\n",
    "                                                            \"AvgPrice\": round(fData.price.mean(),2)}, ignore_index=True)\n",
    "\n",
    "#print(statisticByStateData)\n",
    "#--------------------------------------------------------------------------------------------------------------------------"
   ]
  },
  {
   "cell_type": "code",
   "execution_count": 10,
   "metadata": {
    "colab": {},
    "colab_type": "code",
    "id": "JuMzX7100E2l"
   },
   "outputs": [],
   "source": [
    "# save your table to 'statisticByState.csv'\n",
    "statisticByStateData.to_csv('statisticByState.csv', \n",
    "            encoding='utf-8', \n",
    "            index=False, \n",
    "            header=True)"
   ]
  },
  {
   "cell_type": "markdown",
   "metadata": {},
   "source": [
    "## 1.5 Recommendations\n",
    "\n",
    "\n",
    "Based on the analysis, which country/countries would you recommend *HOTEL TULIP* to source wine from? Pleas state your reasons.\n",
    "\n",
    "---\n",
    "\n",
    "Your Answer: Hotel TULIP should source wine from India, Bulgaria and China. Reasons are as follow.\n",
    "\n",
    "- There are 42 countries in file hence consider top 5% to recommend which equal to 2-3 countries to recommend\n",
    "- Average of AvgPrice is around 26.6 and Average of AvgPoint is around 87.7\n",
    "- Hence after applying filters in generated CSV file top 3 countries with highest points and least price are\n",
    "- India, Bulgaria and China\n",
    "- Hence, this denots that compared to cheaper price these contries are good at wine making based on Points received\n",
    "---\n"
   ]
  }
 ],
 "metadata": {
  "colab": {
   "name": "SIT742Assignment1.ipynb",
   "provenance": [],
   "toc_visible": true,
   "version": "0.3.2"
  },
  "kernelspec": {
   "display_name": "Python 3",
   "language": "python",
   "name": "python3"
  },
  "language_info": {
   "codemirror_mode": {
    "name": "ipython",
    "version": 3
   },
   "file_extension": ".py",
   "mimetype": "text/x-python",
   "name": "python",
   "nbconvert_exporter": "python",
   "pygments_lexer": "ipython3",
   "version": "3.7.3"
  }
 },
 "nbformat": 4,
 "nbformat_minor": 1
}